{
 "cells": [
  {
   "cell_type": "code",
   "execution_count": 1437,
   "metadata": {},
   "outputs": [],
   "source": [
    "import numpy as np\n",
    "import re\n",
    "import os\n",
    "import maps\n",
    "from maps import *\n",
    "import math\n",
    "import sys\n",
    "from pypinyin import pinyin, Style\n",
    "import json\n",
    "from difflib import SequenceMatcher\n",
    "from jellyfish import jaro_winkler"
   ]
  },
  {
   "cell_type": "code",
   "execution_count": 2,
   "metadata": {},
   "outputs": [],
   "source": [
    "def chinese2pinyin(key_str):\n",
    "    pinyin_str = [i[0] for i in pinyin(key_str, style=Style.TONE3, neutral_tone_with_five=True)]\n",
    "    return pinyin_str"
   ]
  },
  {
   "cell_type": "code",
   "execution_count": 3,
   "metadata": {},
   "outputs": [],
   "source": [
    "class Pinyin:\n",
    "    consonantList = maps.consonantList\n",
    "    vowelList = maps.vowelList\n",
    "    \n",
    "    def __init__(self, pinyinstr):\n",
    "        self.tone = int(pinyinstr[-1])\n",
    "        self.locp = pinyinstr[0:-1].lower()\n",
    "        self.consonant, self.vowel = self.parseConsonant(self.locp)\n",
    "        self.pinyinRewrite()\n",
    "    \n",
    "    def parseConsonant(self, pinyin):\n",
    "        for consonant in self.consonantList:\n",
    "            if pinyin.startswith(consonant):\n",
    "                return (consonant, pinyin[len(consonant):])\n",
    "        # it's a vowel without consonant\n",
    "        if pinyin in self.vowelList:\n",
    "            return None, pinyin.lower()\n",
    "        \n",
    "        print(\"Invalid Pinyin, please check!\")\n",
    "        return None, None\n",
    "        \n",
    "    def toStringNoTone(self):\n",
    "        return \"{}{}\".format(self.consonant, self.vowel)\n",
    "    \n",
    "    def toStringWithTone(self):\n",
    "        return \"{}{}{}\".format(self.consonant, self.vowel, self.tone)\n",
    "    \n",
    "    def toString(self):\n",
    "        return \"{}{}{}\".format(self.consonant, self.vowel, self.tone)\n",
    "    \n",
    "    def pinyinRewrite(self):\n",
    "        yVowels = {\"u\",\"ue\",\"uan\",\"un\",\"u:\",\"u:e\",\"u:an\",\"u:n\"}\n",
    "        tconsonant = {\"j\",\"g\",\"x\"}\n",
    "        if 'v' in self.vowel:\n",
    "            self.vowel = self.vowel.replace(\"v\", \"u:\")\n",
    "\n",
    "        if self.consonant == None or self.consonant == \"\":\n",
    "            self.consonant = \"\"\n",
    "            return\n",
    "        if self.consonant == \"y\":\n",
    "            if self.vowel in yVowels:\n",
    "                if \"u:\" not in self.vowel:\n",
    "                    self.vowel = self.vowel.replace(\"u\",\"u:\")\n",
    "            else:\n",
    "                self.vowel=\"i\"+self.vowel\n",
    "                regex = re.compile(\"i+\")\n",
    "                self.vowel = self.vowel.replace(\"iii\",\"i\")\n",
    "                self.vowel = self.vowel.replace(\"ii\",\"i\")\n",
    "            self.consonant=\"\"\n",
    "\n",
    "        if self.consonant == \"w\":\n",
    "            self.vowel=\"u\"+self.vowel\n",
    "            self.vowel=self.vowel.replace(\"uuu\",\"u\")\n",
    "            self.vowel=self.vowel.replace(\"uu\",\"u\")\n",
    "            self.consonant = \"\"\n",
    "\n",
    "        if (self.consonant in tconsonant) and (self.vowel == \"u\") or (self.vowel == \"v\"):\n",
    "            self.vowel=\"u:\"\n",
    "\n",
    "        if self.vowel == \"iou\":\n",
    "            self.vowel = \"iu\"\n",
    "\n",
    "        if self.vowel == \"uei\":\n",
    "            self.vowel = \"ui\"\n",
    "\n",
    "        if self.vowel == \"uen\":\n",
    "            self.vowel = \"un\""
   ]
  },
  {
   "cell_type": "code",
   "execution_count": 4,
   "metadata": {},
   "outputs": [],
   "source": [
    "def get_distance_2d_code(X, Y):\n",
    "    x1, x2 = X\n",
    "    y1, y2 = Y\n",
    "\n",
    "    x1d = abs(x1-y1)\n",
    "    x2d = abs(x2-y2)\n",
    "    \n",
    "    return math.sqrt( x1d**2 + x2d**2)\n",
    "\n",
    "def get_sim_dis_from_hardcod_map(a, b):\n",
    "    try:\n",
    "        simPy = hardcodeMap[a.toStringNoTone()]\n",
    "        if simPy is not None:\n",
    "            if simPy is b.toStringNoTone():\n",
    "                return 2.0\n",
    "        else:\n",
    "            simPy=hardcodeMap[b.toStringNoTone()]\n",
    "            if simPy is not None and simPy is a.toStringNoTone():\n",
    "                return 2.0\n",
    "        return sys.float_info.max\n",
    "    except:\n",
    "        return sys.float_info.max\n",
    "    \n",
    "    \n",
    "def get_edit_distance_close_2d_code(a, b):\n",
    "    res = 0\n",
    "    try:\n",
    "        if (a is None) or (b is None):\n",
    "            print(\"Error:pinyin({},{})\".format(a.toString(),b.toString()))\n",
    "            return res\n",
    "        \n",
    "        twoDcode_consonant_a = consonantMap_TwoDCode[a.consonant]\n",
    "        twoDcode_consonant_b = consonantMap_TwoDCode[b.consonant]\n",
    "        \n",
    "        cDis = abs(get_distance_2d_code(twoDcode_consonant_a, twoDcode_consonant_b))\n",
    "        \n",
    "        twoDcode_vowel_a = vowelMap_TwoDCode[a.vowel]\n",
    "        twoDcode_vowel_b = vowelMap_TwoDCode[b.vowel]\n",
    "        \n",
    "        vDis = abs(get_distance_2d_code(twoDcode_vowel_a, twoDcode_vowel_b))\n",
    "\n",
    "        hcDis = get_sim_dis_from_hardcod_map(a,b)\n",
    "        \n",
    "        res = min((cDis+vDis),hcDis) + 1.0*abs(a.tone-b.tone)/10\n",
    "        \n",
    "    except:\n",
    "        raise Exception(\"Error pinyin {}{}\".format(a.toString(), b.toString()))\n",
    "    return res"
   ]
  },
  {
   "cell_type": "code",
   "execution_count": 5,
   "metadata": {},
   "outputs": [],
   "source": [
    "def get_distance(utterance1, utterance2):\n",
    "\n",
    "    u1 = utterance1\n",
    "    u2 = utterance2\n",
    "\n",
    "    la = []\n",
    "    lb = []\n",
    "    for py in u1:\n",
    "        la.append(Pinyin(py))\n",
    "    for py in u2:\n",
    "        lb.append(Pinyin(py))\n",
    "\n",
    "\n",
    "    n = len(utterance1)\n",
    "    m = len(utterance2)\n",
    "    distance_matrix = np.full(shape=(n, m), fill_value=-1.9)\n",
    "    tot = (len(utterance1) + len(utterance2)) / 2 * 2.1\n",
    "\n",
    "    for i in range(n):\n",
    "        for j in range(m):\n",
    "            apy = la[i]\n",
    "            bpy = lb[j]\n",
    "\n",
    "            res = 0.0\n",
    "            numDiff = 0        \n",
    "\n",
    "            res = get_edit_distance_close_2d_code(apy, bpy)\n",
    "\n",
    "            if apy.consonant != bpy.consonant:\n",
    "                numDiff+=1\n",
    "            if not(str(apy.vowel) == str(bpy.vowel)):\n",
    "                numDiff+=1\n",
    "            if apy.tone != bpy.tone:\n",
    "                numDiff+=0.01\n",
    "            diffRatio = (numDiff)/tot\n",
    "\n",
    "            distance_matrix[i][j] = res*diffRatio\n",
    "\n",
    "    p1_closest = np.min(distance_matrix, axis=1)\n",
    "    p2_closest = np.min(distance_matrix, axis=0)\n",
    "    p1_mean = np.mean(p1_closest)\n",
    "    p2_mean = np.mean(p2_closest)\n",
    "\n",
    "    if n != m:\n",
    "        diss = np.min([p1_mean, p2_mean])\n",
    "    else:\n",
    "        diss = np.mean([p1_mean, p2_mean])\n",
    "    return diss * tot/2"
   ]
  },
  {
   "cell_type": "code",
   "execution_count": 1487,
   "metadata": {},
   "outputs": [],
   "source": [
    "def adapt_len_similarity(l1, l2, i=0.4):\n",
    "    min_ = min(l1, l2)\n",
    "    max_ = max(l1, l2)\n",
    "    if max_ <= 5:\n",
    "        i = min_ /10\n",
    "    if max_ <= 3:\n",
    "        i = 0\n",
    "        \n",
    "    if min_ >=5:\n",
    "        if min_ >=7:\n",
    "            i = i*2\n",
    "        else:\n",
    "            i = i *5\n",
    "        \n",
    "    l1 += i\n",
    "    l2 += i\n",
    "    \n",
    "    len_simi = min(l1, l2) / max(l1, l2)\n",
    "\n",
    "    return len_simi\n",
    "\n",
    "    \n",
    "def dis_to_sim(d, alpha):\n",
    "    return 1/(d + alpha) * alpha "
   ]
  },
  {
   "cell_type": "code",
   "execution_count": 1488,
   "metadata": {
    "scrolled": true
   },
   "outputs": [
    {
     "name": "stdout",
     "output_type": "stream",
     "text": [
      "simi 0.16666666666666666\n"
     ]
    }
   ],
   "source": [
    "d = adapt_len_similarity(1, 8, 0.4)\n",
    "print('simi', d)\n",
    "# print(\"simi \", 1-d)"
   ]
  },
  {
   "cell_type": "code",
   "execution_count": null,
   "metadata": {},
   "outputs": [],
   "source": []
  },
  {
   "cell_type": "code",
   "execution_count": 1489,
   "metadata": {
    "scrolled": false
   },
   "outputs": [
    {
     "name": "stdout",
     "output_type": "stream",
     "text": [
      "(1, 2) 0.6\n",
      "(1, 3) 0.42857142857142855\n",
      "(1, 4) 0.2758620689655172\n",
      "(1, 5) 0.22222222222222218\n",
      "(1, 6) 0.21874999999999997\n",
      "(1, 7) 0.18918918918918917\n",
      "(1, 8) 0.16666666666666666\n",
      "(1, 9) 0.14893617021276595\n",
      "(2, 3) 0.75\n",
      "(2, 4) 0.5333333333333333\n",
      "(2, 5) 0.4324324324324324\n",
      "(2, 6) 0.37499999999999994\n",
      "(2, 7) 0.3243243243243243\n",
      "(2, 8) 0.2857142857142857\n",
      "(2, 9) 0.2553191489361702\n",
      "(3, 4) 0.7741935483870966\n",
      "(3, 5) 0.631578947368421\n",
      "(3, 6) 0.53125\n",
      "(3, 7) 0.45945945945945943\n",
      "(3, 8) 0.4047619047619047\n",
      "(3, 9) 0.36170212765957444\n",
      "(4, 5) 0.8205128205128205\n",
      "(4, 6) 0.6875\n",
      "(4, 7) 0.5945945945945946\n",
      "(4, 8) 0.5238095238095238\n",
      "(4, 9) 0.46808510638297873\n",
      "(5, 6) 0.875\n",
      "(5, 7) 0.7777777777777778\n",
      "(5, 8) 0.7\n",
      "(5, 9) 0.6363636363636364\n",
      "(6, 7) 0.8888888888888888\n",
      "(6, 8) 0.8\n",
      "(6, 9) 0.7272727272727273\n",
      "(7, 8) 0.8863636363636362\n",
      "(7, 9) 0.7959183673469387\n",
      "(8, 9) 0.8979591836734694\n"
     ]
    }
   ],
   "source": [
    "for a in range(1, 10):\n",
    "    for b in range(a+1, 10):\n",
    "        print(f'({a}, {b}) {adapt_len_similarity(a, b, 0.4)}')"
   ]
  },
  {
   "cell_type": "code",
   "execution_count": 1490,
   "metadata": {},
   "outputs": [],
   "source": [
    "def pinyin_similarity(p1, p2, weight_len_diff=0.4, s_type='pinyin', alpha=13.5, i=0.4):\n",
    "    \n",
    "    \n",
    "    if s_type != 'pinyin':\n",
    "        p1, p2 = [chinese2pinyin(p1), chinese2pinyin(p2)]\n",
    "    len1 = len(p1)\n",
    "    len2 = len(p2)\n",
    "    len_simi = adapt_len_similarity(len1, len2, i)\n",
    "    \n",
    "    d = get_distance(p1, p2)\n",
    "    string_simi = dis_to_sim(d, alpha=alpha)\n",
    "    \n",
    "    print('len_simi', len_simi)\n",
    "    print('OG sim', string_simi)\n",
    "    \n",
    "    if len_simi >= string_simi:\n",
    "        weight_len_diff = 0\n",
    "    string_simi = string_simi * (1-weight_len_diff) + len_simi * weight_len_diff\n",
    "    return string_simi"
   ]
  },
  {
   "cell_type": "code",
   "execution_count": 1491,
   "metadata": {},
   "outputs": [
    {
     "name": "stdout",
     "output_type": "stream",
     "text": [
      "len_simi 0.16666666666666666\n",
      "OG sim 0.8275101140125046\n"
     ]
    },
    {
     "data": {
      "text/plain": [
       "0.5631727350741694"
      ]
     },
     "execution_count": 1491,
     "metadata": {},
     "output_type": "execute_result"
    }
   ],
   "source": [
    "pinyin_similarity(['zhou2'], ['mei3', 'ya4', 'gu3', 'bao3', 'jiu3', 'huang2', 'dian4', 'gong1'])"
   ]
  },
  {
   "cell_type": "code",
   "execution_count": 1492,
   "metadata": {},
   "outputs": [
    {
     "name": "stdout",
     "output_type": "stream",
     "text": [
      "len_simi 0.4047619047619047\n",
      "OG sim 1.0\n"
     ]
    },
    {
     "data": {
      "text/plain": [
       "0.7619047619047619"
      ]
     },
     "execution_count": 1492,
     "metadata": {},
     "output_type": "execute_result"
    }
   ],
   "source": [
    "pinyin_similarity(['mei3', 'huang2', 'dian4'], ['mei3', 'ya4', 'gu3', 'bao3', 'jiu3', 'huang2', 'dian4', 'gong1'])"
   ]
  },
  {
   "cell_type": "code",
   "execution_count": 1493,
   "metadata": {},
   "outputs": [
    {
     "name": "stdout",
     "output_type": "stream",
     "text": [
      "len_simi 1.0\n",
      "OG sim 1.0\n"
     ]
    },
    {
     "data": {
      "text/plain": [
       "1.0"
      ]
     },
     "execution_count": 1493,
     "metadata": {},
     "output_type": "execute_result"
    }
   ],
   "source": [
    "pinyin_similarity('脆香樂', '脆香乐', s_type='char')"
   ]
  },
  {
   "cell_type": "code",
   "execution_count": 1494,
   "metadata": {},
   "outputs": [
    {
     "name": "stdout",
     "output_type": "stream",
     "text": [
      "len_simi 1.0\n",
      "OG sim 0.7345497883955832\n"
     ]
    },
    {
     "data": {
      "text/plain": [
       "0.7345497883955832"
      ]
     },
     "execution_count": 1494,
     "metadata": {},
     "output_type": "execute_result"
    }
   ],
   "source": [
    "pinyin_similarity(['zhuo2', 'mei3', 'ya4', 'huang2'],\n",
    "['zhuo2', 'mei3', 'ya4', 'he2'])"
   ]
  },
  {
   "cell_type": "code",
   "execution_count": 1495,
   "metadata": {},
   "outputs": [
    {
     "name": "stdout",
     "output_type": "stream",
     "text": [
      "len_simi 1.0\n",
      "OG sim 0.8986473722267708\n"
     ]
    },
    {
     "data": {
      "text/plain": [
       "0.8986473722267708"
      ]
     },
     "execution_count": 1495,
     "metadata": {},
     "output_type": "execute_result"
    }
   ],
   "source": [
    "pinyin_similarity(['zhuo3', 'mei3', 'ya4', 'gu3', 'bao3', 'jiu3', 'huang2', 'dian4', 'gong1'],\n",
    "                ['zhuo2', 'mei3', 'ya4', 'gu3', 'bao3', 'jiu3', 'dian4', 'he2', 'gong1'])"
   ]
  },
  {
   "cell_type": "code",
   "execution_count": 1496,
   "metadata": {},
   "outputs": [
    {
     "name": "stdout",
     "output_type": "stream",
     "text": [
      "len_simi 0.8979591836734694\n",
      "OG sim 0.9999953703918036\n"
     ]
    },
    {
     "data": {
      "text/plain": [
       "0.9591808957044698"
      ]
     },
     "execution_count": 1496,
     "metadata": {},
     "output_type": "execute_result"
    }
   ],
   "source": [
    "pinyin_similarity(['zhuo3', 'mei3', 'ya4', 'gu3', 'bao3', 'jiu3', 'dian4', 'gong1'],\n",
    "                ['zhuo2', 'mei3', 'ya4', 'gu3', 'bao3', 'jiu3', 'dian4', 'he2', 'gong1'])"
   ]
  },
  {
   "cell_type": "code",
   "execution_count": 1497,
   "metadata": {},
   "outputs": [
    {
     "name": "stdout",
     "output_type": "stream",
     "text": [
      "len_simi 0.6363636363636364\n",
      "OG sim 0.9999925926474619\n"
     ]
    },
    {
     "data": {
      "text/plain": [
       "0.8545410101339317"
      ]
     },
     "execution_count": 1497,
     "metadata": {},
     "output_type": "execute_result"
    }
   ],
   "source": [
    "pinyin_similarity(['zhuo3', 'mei3', 'ya4', 'gu3', 'bao3', 'jiu3', 'huang2', 'dian4', 'gong1'],\n",
    "                ['zhuo2', 'mei3', 'ya4', 'gu3', 'bao3'])"
   ]
  },
  {
   "cell_type": "code",
   "execution_count": 1498,
   "metadata": {},
   "outputs": [
    {
     "name": "stdout",
     "output_type": "stream",
     "text": [
      "len_simi 1.0\n",
      "OG sim 0.0007626458307812572\n"
     ]
    },
    {
     "data": {
      "text/plain": [
       "0.0007626458307812572"
      ]
     },
     "execution_count": 1498,
     "metadata": {},
     "output_type": "execute_result"
    }
   ],
   "source": [
    "pinyin_similarity(['zhuo2', 'mei3', 'ya4', 'huang2',],\n",
    "['bao3', 'jiu3', 'dian4', 'he2'])"
   ]
  },
  {
   "cell_type": "code",
   "execution_count": 1499,
   "metadata": {},
   "outputs": [
    {
     "name": "stdout",
     "output_type": "stream",
     "text": [
      "len_simi 0.7741935483870966\n",
      "OG sim 1.0\n"
     ]
    },
    {
     "data": {
      "text/plain": [
       "0.9096774193548387"
      ]
     },
     "execution_count": 1499,
     "metadata": {},
     "output_type": "execute_result"
    }
   ],
   "source": [
    "pinyin_similarity(['zhuo2', 'mei3', 'ya4', 'huang2',],\n",
    "['zhuo2', 'mei3', 'ya4'])"
   ]
  },
  {
   "cell_type": "code",
   "execution_count": 1370,
   "metadata": {},
   "outputs": [],
   "source": [
    "import pandas as pd\n",
    "import seaborn as sns\n",
    "import matplotlib.pyplot as plt"
   ]
  },
  {
   "cell_type": "code",
   "execution_count": 1072,
   "metadata": {},
   "outputs": [],
   "source": [
    "df = pd.read_csv('data_len_diff.txt', sep='\\t')\n",
    "# df2 = df.copy()\n",
    "# df2 = df2[['x2', 'x1', 'simi']]\n",
    "# df2.columns = ['x1', 'x2', 'simi']\n",
    "# df3 = pd.read_csv('data_len_diff2.txt', sep='\\t')\n",
    "# df = pd.concat([df, df2, df3], axis=0)"
   ]
  },
  {
   "cell_type": "code",
   "execution_count": 1006,
   "metadata": {
    "scrolled": false
   },
   "outputs": [
    {
     "data": {
      "text/plain": [
       "<AxesSubplot:xlabel='x1', ylabel='x2'>"
      ]
     },
     "execution_count": 1006,
     "metadata": {},
     "output_type": "execute_result"
    },
    {
     "data": {
      "image/png": "[encoded data removed]",
      "text/plain": [
       "<Figure size 576x432 with 1 Axes>"
      ]
     },
     "metadata": {
      "needs_background": "light"
     },
     "output_type": "display_data"
    }
   ],
   "source": [
    "plt.figure(figsize=(8,6))\n",
    "sns.scatterplot(x=df['x1'], y=df['x2'], size=df['simi']*10)"
   ]
  },
  {
   "cell_type": "code",
   "execution_count": 1058,
   "metadata": {},
   "outputs": [],
   "source": [
    "X = df.iloc[:, :-1]\n",
    "y = df['simi']"
   ]
  },
  {
   "cell_type": "code",
   "execution_count": 1059,
   "metadata": {},
   "outputs": [],
   "source": [
    "from sklearn.preprocessing import PolynomialFeatures"
   ]
  },
  {
   "cell_type": "code",
   "execution_count": 1060,
   "metadata": {},
   "outputs": [
    {
     "data": {
      "text/plain": [
       "PolynomialFeatures(degree=5)"
      ]
     },
     "execution_count": 1060,
     "metadata": {},
     "output_type": "execute_result"
    }
   ],
   "source": [
    "poly = PolynomialFeatures(5)\n",
    "poly.fit(X)"
   ]
  },
  {
   "cell_type": "code",
   "execution_count": 1061,
   "metadata": {},
   "outputs": [],
   "source": [
    "X_poly = poly.transform(X)"
   ]
  },
  {
   "cell_type": "code",
   "execution_count": 1062,
   "metadata": {},
   "outputs": [],
   "source": [
    "from sklearn.linear_model import LinearRegression\n",
    "from sklearn.tree import DecisionTreeRegressor"
   ]
  },
  {
   "cell_type": "code",
   "execution_count": 1063,
   "metadata": {},
   "outputs": [
    {
     "data": {
      "text/plain": [
       "LinearRegression()"
      ]
     },
     "execution_count": 1063,
     "metadata": {},
     "output_type": "execute_result"
    }
   ],
   "source": [
    "lm = LinearRegression()\n",
    "lm.fit(X_poly, y)"
   ]
  },
  {
   "cell_type": "code",
   "execution_count": 1064,
   "metadata": {},
   "outputs": [],
   "source": [
    "y_predict = lm.predict(X_poly)"
   ]
  },
  {
   "cell_type": "code",
   "execution_count": 1065,
   "metadata": {},
   "outputs": [],
   "source": [
    "from sklearn.metrics import r2_score"
   ]
  },
  {
   "cell_type": "code",
   "execution_count": 1066,
   "metadata": {},
   "outputs": [
    {
     "data": {
      "text/plain": [
       "0.9560202619260455"
      ]
     },
     "execution_count": 1066,
     "metadata": {},
     "output_type": "execute_result"
    }
   ],
   "source": [
    "r2_score(y, y_predict)"
   ]
  },
  {
   "cell_type": "code",
   "execution_count": 1067,
   "metadata": {},
   "outputs": [
    {
     "data": {
      "text/plain": [
       "<AxesSubplot:ylabel='simi'>"
      ]
     },
     "execution_count": 1067,
     "metadata": {},
     "output_type": "execute_result"
    },
    {
     "data": {
      "image/png": "[encoded data removed]",
      "text/plain": [
       "<Figure size 1296x360 with 1 Axes>"
      ]
     },
     "metadata": {
      "needs_background": "light"
     },
     "output_type": "display_data"
    }
   ],
   "source": [
    "plt.figure(figsize=(18,5))\n",
    "\n",
    "sns.lineplot(x=list(range(len(y))), y=y, linewidth=3)\n",
    "sns.lineplot(x=list(range(len(y))), y=y_predict)"
   ]
  },
  {
   "cell_type": "code",
   "execution_count": 1034,
   "metadata": {},
   "outputs": [],
   "source": [
    "df = pd.read_excel(r'C:\\Users\\dcnha\\Desktop\\nha\\rouse image matching\\decionsiontree query\\COVID cases and deaths by county with population.xlsx')"
   ]
  },
  {
   "cell_type": "code",
   "execution_count": null,
   "metadata": {},
   "outputs": [],
   "source": []
  },
  {
   "cell_type": "markdown",
   "metadata": {},
   "source": [
    "# cangjie"
   ]
  },
  {
   "cell_type": "code",
   "execution_count": 1438,
   "metadata": {},
   "outputs": [],
   "source": [
    "def similar(a, b, d_type='jaro'):\n",
    "    if d_type =='jaro':\n",
    "        return jaro_winkler(a, b)\n",
    "    if d_type =='SM':\n",
    "        return SequenceMatcher(None, a, b).ratio()\n",
    "\n",
    "\n",
    "def list_word_similarity(p1, p2):\n",
    "  \n",
    "    n = len(p1)\n",
    "    m = len(p2)\n",
    "    similarity_matrix = np.full(shape=(n, m), fill_value=-1.9)\n",
    "    for i in range(n):\n",
    "        for j in range(m):\n",
    "            similarity_matrix[i][j] = similar(p1[i], p2[j])\n",
    "    p1_closest = np.max(similarity_matrix, axis=1)\n",
    "    p2_closest = np.max(similarity_matrix, axis=0)\n",
    "    p1_mean = np.mean(p1_closest)\n",
    "    p2_mean = np.mean(p2_closest)\n",
    "    if n != m:\n",
    "        sim = np.max([p1_mean, p2_mean])\n",
    "    else:\n",
    "        sim = np.mean([p1_mean, p2_mean])\n",
    "    return sim\n"
   ]
  },
  {
   "cell_type": "code",
   "execution_count": 1458,
   "metadata": {},
   "outputs": [],
   "source": [
    "def cangjie_similarity(p1, p2, weight_len_diff=0.4, s_type='cangjie', i=0.4):\n",
    "    if s_type != 'cangjie':\n",
    "        p1 = chinese2cangjie(p1)\n",
    "        p2 = chinese2cangjie(p2)\n",
    "        \n",
    "    len1 = len(p1)\n",
    "    len2 = len(p2)\n",
    "    len_simi = adapt_len_similarity(len1, len2, i)\n",
    "    \n",
    "    string_simi = list_word_similarity(p1, p2)\n",
    "    \n",
    "    print('len_simi', len_simi)\n",
    "    print('OG sim', string_simi)\n",
    "    \n",
    "    if len_simi >= string_simi:\n",
    "        weight_len_diff = 0\n",
    "    string_simi = string_simi * (1-weight_len_diff) + len_simi * weight_len_diff\n",
    "    \n",
    "    return string_simi"
   ]
  },
  {
   "cell_type": "code",
   "execution_count": 1459,
   "metadata": {},
   "outputs": [],
   "source": [
    "from nha_dimsim import chinese2cangjie"
   ]
  },
  {
   "cell_type": "code",
   "execution_count": 1462,
   "metadata": {},
   "outputs": [
    {
     "name": "stdout",
     "output_type": "stream",
     "text": [
      "len_simi 1.0\n",
      "OG sim 0.8518518518518517\n"
     ]
    },
    {
     "data": {
      "text/plain": [
       "0.8518518518518517"
      ]
     },
     "execution_count": 1462,
     "metadata": {},
     "output_type": "execute_result"
    }
   ],
   "source": [
    "cangjie_similarity('脆香樂', '脆香乐', s_type='char')"
   ]
  },
  {
   "cell_type": "code",
   "execution_count": 1461,
   "metadata": {},
   "outputs": [
    {
     "name": "stdout",
     "output_type": "stream",
     "text": [
      "len_simi 1.0\n",
      "OG sim 0.7592592592592592\n"
     ]
    },
    {
     "data": {
      "text/plain": [
       "0.7592592592592592"
      ]
     },
     "execution_count": 1461,
     "metadata": {},
     "output_type": "execute_result"
    }
   ],
   "source": [
    "cangjie_similarity('脆香樂', '乐香樂', s_type='char')"
   ]
  },
  {
   "cell_type": "code",
   "execution_count": null,
   "metadata": {},
   "outputs": [],
   "source": []
  },
  {
   "cell_type": "code",
   "execution_count": null,
   "metadata": {},
   "outputs": [],
   "source": [
    "# u1 = ['zhuo2', 'mei3', 'ya4', 'huang2',]\n",
    "# u2 = ['zhuo2', 'mei3', 'ya4', 'he2']\n",
    "\n",
    "# utterance1 = u1\n",
    "# utterance2 = u2\n",
    "\n",
    "# la = []\n",
    "# lb = []\n",
    "# for py in u1:\n",
    "#     la.append(Pinyin(py))\n",
    "# for py in u2:\n",
    "#     lb.append(Pinyin(py))\n",
    "\n",
    "\n",
    "# res = 0.0\n",
    "# numDiff = 0        \n",
    "# tot = len(utterance1)*2.1\n",
    "# for i in range (len(utterance1)):\n",
    "#     apy = la[i]\n",
    "#     bpy = lb[i]\n",
    "\n",
    "#     if (apy is None) or (bpy is None):\n",
    "#         raise Exception(\"!Empty Pinyin {},{}\".format(la, lb))\n",
    "#     res += get_edit_distance_close_2d_code(apy, bpy)\n",
    "\n",
    "#     if apy.consonant != bpy.consonant:\n",
    "#         numDiff+=1\n",
    "\n",
    "#     if not(str(apy.vowel) == str(bpy.vowel)):\n",
    "#         numDiff+=1\n",
    "\n",
    "#     if apy.tone != bpy.tone:\n",
    "#         numDiff+=0.01\n",
    "\n",
    "# diffRatio = (numDiff)/tot\n",
    "# print(res*diffRatio)"
   ]
  },
  {
   "cell_type": "code",
   "execution_count": null,
   "metadata": {},
   "outputs": [],
   "source": [
    "# def pinyin_similarity(p1, p2):\n",
    "\n",
    "#     d = get_distance(p1, p2)\n",
    "#     s = -1 / (1 + np.exp(-d)) + 1.5\n",
    "    \n",
    "#     return d, s\n",
    "# def pinyin_similarity(p1, p2):\n",
    "\n",
    "#     d = get_distance(p1, p2)\n",
    "#     if d == 0:\n",
    "#         s = 1\n",
    "#     else:\n",
    "#         s1 = 1 - 1 / (1 + np.exp(-np.log(d)))\n",
    "        \n",
    "#         alpha1 = 2.5\n",
    "#         s2 = 1/(d + alpha1) + (1 - 1/alpha1)\n",
    "        \n",
    "#         alpha = 0.05\n",
    "#         s = alpha * s1 + (1-alpha) *s2\n",
    "    \n",
    "#     return d, s"
   ]
  }
 ],
 "metadata": {
  "kernelspec": {
   "display_name": "Python 3 (ipykernel)",
   "language": "python",
   "name": "python3"
  },
  "language_info": {
   "codemirror_mode": {
    "name": "ipython",
    "version": 3
   },
   "file_extension": ".py",
   "mimetype": "text/x-python",
   "name": "python",
   "nbconvert_exporter": "python",
   "pygments_lexer": "ipython3",
   "version": "3.8.13"
  }
 },
 "nbformat": 4,
 "nbformat_minor": 4
}
