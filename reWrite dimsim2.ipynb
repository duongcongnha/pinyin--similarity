{
 "cells": [
  {
   "cell_type": "code",
   "execution_count": 1,
   "metadata": {},
   "outputs": [],
   "source": [
    "import numpy as np\n",
    "import re\n",
    "import os\n",
    "import maps\n",
    "from maps import *\n",
    "import math\n",
    "import sys"
   ]
  },
  {
   "cell_type": "code",
   "execution_count": 2,
   "metadata": {},
   "outputs": [],
   "source": [
    "class Pinyin:\n",
    "    consonantList = maps.consonantList\n",
    "    vowelList = maps.vowelList\n",
    "    \n",
    "    def __init__(self, pinyinstr):\n",
    "        self.tone = int(pinyinstr[-1])\n",
    "        self.locp = pinyinstr[0:-1].lower()\n",
    "        self.consonant, self.vowel = self.parseConsonant(self.locp)\n",
    "        self.pinyinRewrite()\n",
    "    \n",
    "    def parseConsonant(self, pinyin):\n",
    "        for consonant in self.consonantList:\n",
    "            if pinyin.startswith(consonant):\n",
    "                return (consonant, pinyin[len(consonant):])\n",
    "        # it's a vowel without consonant\n",
    "        if pinyin in self.vowelList:\n",
    "            return None, pinyin.lower()\n",
    "        \n",
    "        print(\"Invalid Pinyin, please check!\")\n",
    "        return None, None\n",
    "        \n",
    "    def toStringNoTone(self):\n",
    "        return \"{}{}\".format(self.consonant, self.vowel)\n",
    "    \n",
    "    def toStringWithTone(self):\n",
    "        return \"{}{}{}\".format(self.consonant, self.vowel, self.tone)\n",
    "    \n",
    "    def toString(self):\n",
    "        return \"{}{}{}\".format(self.consonant, self.vowel, self.tone)\n",
    "    \n",
    "    def pinyinRewrite(self):\n",
    "        yVowels = {\"u\",\"ue\",\"uan\",\"un\",\"u:\",\"u:e\",\"u:an\",\"u:n\"}\n",
    "        tconsonant = {\"j\",\"g\",\"x\"}\n",
    "        if 'v' in self.vowel:\n",
    "            self.vowel = self.vowel.replace(\"v\", \"u:\")\n",
    "\n",
    "        if self.consonant == None or self.consonant == \"\":\n",
    "            self.consonant = \"\"\n",
    "            return\n",
    "        if self.consonant == \"y\":\n",
    "            if self.vowel in yVowels:\n",
    "                if \"u:\" not in self.vowel:\n",
    "                    self.vowel = self.vowel.replace(\"u\",\"u:\")\n",
    "            else:\n",
    "                self.vowel=\"i\"+self.vowel\n",
    "                regex = re.compile(\"i+\")\n",
    "                self.vowel = self.vowel.replace(\"iii\",\"i\")\n",
    "                self.vowel = self.vowel.replace(\"ii\",\"i\")\n",
    "            self.consonant=\"\"\n",
    "\n",
    "        if self.consonant == \"w\":\n",
    "            self.vowel=\"u\"+self.vowel\n",
    "            self.vowel=self.vowel.replace(\"uuu\",\"u\")\n",
    "            self.vowel=self.vowel.replace(\"uu\",\"u\")\n",
    "            self.consonant = \"\"\n",
    "\n",
    "        if (self.consonant in tconsonant) and (self.vowel == \"u\") or (self.vowel == \"v\"):\n",
    "            self.vowel=\"u:\"\n",
    "\n",
    "        if self.vowel == \"iou\":\n",
    "            self.vowel = \"iu\"\n",
    "\n",
    "        if self.vowel == \"uei\":\n",
    "            self.vowel = \"ui\"\n",
    "\n",
    "        if self.vowel == \"uen\":\n",
    "            self.vowel = \"un\""
   ]
  },
  {
   "cell_type": "code",
   "execution_count": 3,
   "metadata": {},
   "outputs": [],
   "source": [
    "def get_distance_2d_code(X, Y):\n",
    "    x1, x2 = X\n",
    "    y1, y2 = Y\n",
    "\n",
    "    x1d = abs(x1-y1)\n",
    "    x2d = abs(x2-y2)\n",
    "    \n",
    "    return math.sqrt( x1d**2 + x2d**2)\n",
    "\n",
    "def get_sim_dis_from_hardcod_map(a, b):\n",
    "    try:\n",
    "        simPy = hardcodeMap[a.toStringNoTone()]\n",
    "        if simPy is not None:\n",
    "            if simPy is b.toStringNoTone():\n",
    "                return 2.0\n",
    "        else:\n",
    "            simPy=hardcodeMap[b.toStringNoTone()]\n",
    "            if simPy is not None and simPy is a.toStringNoTone():\n",
    "                return 2.0\n",
    "        return sys.float_info.max\n",
    "    except:\n",
    "        return sys.float_info.max\n",
    "    \n",
    "    \n",
    "def get_edit_distance_close_2d_code(a, b):\n",
    "    res = 0\n",
    "    try:\n",
    "        if (a is None) or (b is None):\n",
    "            print(\"Error:pinyin({},{})\".format(a.toString(),b.toString()))\n",
    "            return res\n",
    "        \n",
    "        twoDcode_consonant_a = consonantMap_TwoDCode[a.consonant]\n",
    "        twoDcode_consonant_b = consonantMap_TwoDCode[b.consonant]\n",
    "        \n",
    "        cDis = abs(get_distance_2d_code(twoDcode_consonant_a, twoDcode_consonant_b))\n",
    "        \n",
    "        twoDcode_vowel_a = vowelMap_TwoDCode[a.vowel]\n",
    "        twoDcode_vowel_b = vowelMap_TwoDCode[b.vowel]\n",
    "        \n",
    "        vDis = abs(get_distance_2d_code(twoDcode_vowel_a, twoDcode_vowel_b))\n",
    "\n",
    "        hcDis = get_sim_dis_from_hardcod_map(a,b)\n",
    "        \n",
    "        res = min((cDis+vDis),hcDis) + 1.0*abs(a.tone-b.tone)/10\n",
    "        \n",
    "    except:\n",
    "        raise Exception(\"Error pinyin {}{}\".format(a.toString(), b.toString()))\n",
    "    return res"
   ]
  },
  {
   "cell_type": "code",
   "execution_count": 4,
   "metadata": {},
   "outputs": [],
   "source": [
    "def get_distance(utterance1, utterance2):\n",
    "\n",
    "    u1 = utterance1\n",
    "    u2 = utterance2\n",
    "\n",
    "    la = []\n",
    "    lb = []\n",
    "    for py in u1:\n",
    "        la.append(Pinyin(py))\n",
    "    for py in u2:\n",
    "        lb.append(Pinyin(py))\n",
    "\n",
    "\n",
    "    n = len(utterance1)\n",
    "    m = len(utterance2)\n",
    "    distance_matrix = np.full(shape=(n, m), fill_value=-1.9)\n",
    "    tot = (len(utterance1) + len(utterance2)) / 2 * 2.1\n",
    "\n",
    "    for i in range(n):\n",
    "        for j in range(m):\n",
    "            apy = la[i]\n",
    "            bpy = lb[j]\n",
    "\n",
    "            res = 0.0\n",
    "            numDiff = 0        \n",
    "\n",
    "            res = get_edit_distance_close_2d_code(apy, bpy)\n",
    "\n",
    "            if apy.consonant != bpy.consonant:\n",
    "                numDiff+=1\n",
    "            if not(str(apy.vowel) == str(bpy.vowel)):\n",
    "                numDiff+=1\n",
    "            if apy.tone != bpy.tone:\n",
    "                numDiff+=0.01\n",
    "            diffRatio = (numDiff)/tot\n",
    "\n",
    "            distance_matrix[i][j] = res*diffRatio\n",
    "\n",
    "    p1_closest = np.min(distance_matrix, axis=1)\n",
    "    p2_closest = np.min(distance_matrix, axis=0)\n",
    "    p1_mean = np.mean(p1_closest)\n",
    "    p2_mean = np.mean(p2_closest)\n",
    "\n",
    "    if n != m:\n",
    "        diss = np.min([p1_mean, p2_mean])\n",
    "    else:\n",
    "        diss = np.mean([p1_mean, p2_mean])\n",
    "    return diss * tot/2"
   ]
  },
  {
   "cell_type": "code",
   "execution_count": 73,
   "metadata": {},
   "outputs": [],
   "source": [
    "def pinyin_similarity(p1, p2):\n",
    "\n",
    "    d = get_distance(p1, p2)\n",
    "    \n",
    "    alpha1 = 13\n",
    "    s = 1/(d + alpha1) * alpha1\n",
    "    \n",
    "    return d, s"
   ]
  },
  {
   "cell_type": "code",
   "execution_count": 6,
   "metadata": {},
   "outputs": [],
   "source": [
    "def pinyin_similarity(p1, p2):\n",
    "\n",
    "    d = get_distance(p1, p2)\n",
    "    s = -1 / (1 + np.exp(-d)) + 1.5\n",
    "    \n",
    "    return d, s"
   ]
  },
  {
   "cell_type": "code",
   "execution_count": 7,
   "metadata": {},
   "outputs": [],
   "source": [
    "def pinyin_similarity(p1, p2):\n",
    "\n",
    "    d = get_distance(p1, p2)\n",
    "    if d == 0:\n",
    "        s = 1\n",
    "    else:\n",
    "        s1 = 1 - 1 / (1 + np.exp(-np.log(d)))\n",
    "        \n",
    "        alpha1 = 2.5\n",
    "        s2 = 1/(d + alpha1) + (1 - 1/alpha1)\n",
    "        \n",
    "        alpha = 0.05\n",
    "        s = alpha * s1 + (1-alpha) *s2\n",
    "    \n",
    "    return d, s"
   ]
  },
  {
   "cell_type": "code",
   "execution_count": 74,
   "metadata": {},
   "outputs": [
    {
     "data": {
      "text/plain": [
       "(0.0005, 0.9999615399407714)"
      ]
     },
     "execution_count": 74,
     "metadata": {},
     "output_type": "execute_result"
    }
   ],
   "source": [
    "pinyin_similarity(['mei3'], ['mei4'])"
   ]
  },
  {
   "cell_type": "code",
   "execution_count": 75,
   "metadata": {},
   "outputs": [
    {
     "data": {
      "text/plain": [
       "(4.878604436721632, 0.7271261046135539)"
      ]
     },
     "execution_count": 75,
     "metadata": {},
     "output_type": "execute_result"
    }
   ],
   "source": [
    "pinyin_similarity(['zhuo2', 'mei3', 'ya4', 'huang2',],\n",
    "['zhuo2', 'mei3', 'ya4', 'he2'])"
   ]
  },
  {
   "cell_type": "code",
   "execution_count": 76,
   "metadata": {},
   "outputs": [
    {
     "data": {
      "text/plain": [
       "(1.522577728734868, 0.8951578874511895)"
      ]
     },
     "execution_count": 76,
     "metadata": {},
     "output_type": "execute_result"
    }
   ],
   "source": [
    "pinyin_similarity(['zhuo3', 'mei3', 'ya4', 'gu3', 'bao3', 'jiu3', 'huang2', 'dian4', 'gong1'],\n",
    "['zhuo2', 'mei3', 'ya4', 'gu3', 'bao3', 'jiu3', 'dian4', 'he2', 'gong1'])"
   ]
  },
  {
   "cell_type": "code",
   "execution_count": 77,
   "metadata": {},
   "outputs": [
    {
     "data": {
      "text/plain": [
       "(6.25e-05, 0.9999951923308061)"
      ]
     },
     "execution_count": 77,
     "metadata": {},
     "output_type": "execute_result"
    }
   ],
   "source": [
    "pinyin_similarity(['zhuo3', 'mei3', 'ya4', 'gu3', 'bao3', 'jiu3', 'dian4', 'gong1'],\n",
    "['zhuo2', 'mei3', 'ya4', 'gu3', 'bao3', 'jiu3', 'dian4', 'he2', 'gong1'])"
   ]
  },
  {
   "cell_type": "code",
   "execution_count": 78,
   "metadata": {},
   "outputs": [
    {
     "data": {
      "text/plain": [
       "(17688.032553020777, 0.0007344204334442331)"
      ]
     },
     "execution_count": 78,
     "metadata": {},
     "output_type": "execute_result"
    }
   ],
   "source": [
    "pinyin_similarity(['zhuo2', 'mei3', 'ya4', 'huang2',],\n",
    "['bao3', 'jiu3', 'dian4', 'he2'])"
   ]
  },
  {
   "cell_type": "code",
   "execution_count": 79,
   "metadata": {},
   "outputs": [
    {
     "data": {
      "text/plain": [
       "(0.0, 1.0)"
      ]
     },
     "execution_count": 79,
     "metadata": {},
     "output_type": "execute_result"
    }
   ],
   "source": [
    "pinyin_similarity(['zhuo2', 'mei3', 'ya4', 'huang2',],\n",
    "['zhuo2', 'mei3', 'ya4'])"
   ]
  },
  {
   "cell_type": "code",
   "execution_count": null,
   "metadata": {},
   "outputs": [],
   "source": []
  },
  {
   "cell_type": "code",
   "execution_count": null,
   "metadata": {},
   "outputs": [],
   "source": []
  },
  {
   "cell_type": "code",
   "execution_count": null,
   "metadata": {},
   "outputs": [],
   "source": []
  },
  {
   "cell_type": "code",
   "execution_count": null,
   "metadata": {},
   "outputs": [],
   "source": []
  },
  {
   "cell_type": "code",
   "execution_count": null,
   "metadata": {},
   "outputs": [],
   "source": []
  },
  {
   "cell_type": "code",
   "execution_count": null,
   "metadata": {},
   "outputs": [],
   "source": []
  },
  {
   "cell_type": "code",
   "execution_count": null,
   "metadata": {},
   "outputs": [],
   "source": [
    "# u1 = ['zhuo2', 'mei3', 'ya4', 'huang2',]\n",
    "# u2 = ['zhuo2', 'mei3', 'ya4', 'he2']\n",
    "\n",
    "# utterance1 = u1\n",
    "# utterance2 = u2\n",
    "\n",
    "# la = []\n",
    "# lb = []\n",
    "# for py in u1:\n",
    "#     la.append(Pinyin(py))\n",
    "# for py in u2:\n",
    "#     lb.append(Pinyin(py))\n",
    "\n",
    "\n",
    "# res = 0.0\n",
    "# numDiff = 0        \n",
    "# tot = len(utterance1)*2.1\n",
    "# for i in range (len(utterance1)):\n",
    "#     apy = la[i]\n",
    "#     bpy = lb[i]\n",
    "\n",
    "#     if (apy is None) or (bpy is None):\n",
    "#         raise Exception(\"!Empty Pinyin {},{}\".format(la, lb))\n",
    "#     res += get_edit_distance_close_2d_code(apy, bpy)\n",
    "\n",
    "#     if apy.consonant != bpy.consonant:\n",
    "#         numDiff+=1\n",
    "\n",
    "#     if not(str(apy.vowel) == str(bpy.vowel)):\n",
    "#         numDiff+=1\n",
    "\n",
    "#     if apy.tone != bpy.tone:\n",
    "#         numDiff+=0.01\n",
    "\n",
    "# diffRatio = (numDiff)/tot\n",
    "# print(res*diffRatio)"
   ]
  }
 ],
 "metadata": {
  "kernelspec": {
   "display_name": "Python 3",
   "language": "python",
   "name": "python3"
  },
  "language_info": {
   "codemirror_mode": {
    "name": "ipython",
    "version": 3
   },
   "file_extension": ".py",
   "mimetype": "text/x-python",
   "name": "python",
   "nbconvert_exporter": "python",
   "pygments_lexer": "ipython3",
   "version": "3.8.5"
  }
 },
 "nbformat": 4,
 "nbformat_minor": 4
}
